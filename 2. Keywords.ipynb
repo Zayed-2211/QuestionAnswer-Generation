{
 "cells": [
  {
   "cell_type": "code",
   "execution_count": 1,
   "metadata": {},
   "outputs": [],
   "source": [
    "import pke \n",
    "ex_tfidf = pke.unsupervised.TfIdf()\n",
    "ex_kpminer = pke.unsupervised.KPMiner()\n",
    "ex_topicrank = pke.unsupervised.TopicRank()\n",
    "ex_multpartiterank = pke.unsupervised.MultipartiteRank()"
   ]
  },
  {
   "cell_type": "code",
   "execution_count": 3,
   "metadata": {},
   "outputs": [],
   "source": [
    "with open('text\\egypt.txt') as f:\n",
    "    myfile = f.read()\n",
    "\n",
    "myfile.lower()\n",
    "\n",
    "ex_tfidf.load_document(\n",
    "    myfile,\n",
    "    language='en',\n",
    "    normalization='stemming')\n",
    "\n",
    "ex_kpminer.load_document(\n",
    "    myfile,\n",
    "    language='en',\n",
    "    normalization='stemming')\n",
    "\n",
    "ex_topicrank.load_document(\n",
    "    myfile,\n",
    "    language='en',\n",
    "    normalization='stemming')\n",
    "\n",
    "ex_multpartiterank.load_document(\n",
    "    myfile,\n",
    "    language='en',\n",
    "    normalization='stemming')"
   ]
  },
  {
   "cell_type": "code",
   "execution_count": 4,
   "metadata": {},
   "outputs": [],
   "source": [
    "ex_tfidf.candidate_selection()\n",
    "ex_kpminer.candidate_selection()\n",
    "ex_topicrank.candidate_selection()\n",
    "ex_multpartiterank.candidate_selection()"
   ]
  },
  {
   "cell_type": "code",
   "execution_count": 5,
   "metadata": {},
   "outputs": [
    {
     "name": "stderr",
     "output_type": "stream",
     "text": [
      "WARNING:root:LoadFile._df_counts is hard coded to c:\\Users\\Ahmed Zayed\\AppData\\Local\\Programs\\Python\\Python310\\lib\\site-packages\\pke\\models\\df-semeval2010.tsv.gz\n",
      "WARNING:root:LoadFile._df_counts is hard coded to c:\\Users\\Ahmed Zayed\\AppData\\Local\\Programs\\Python\\Python310\\lib\\site-packages\\pke\\models\\df-semeval2010.tsv.gz\n"
     ]
    }
   ],
   "source": [
    "ex_tfidf.candidate_weighting()\n",
    "ex_kpminer.candidate_weighting()\n",
    "ex_topicrank.candidate_weighting()\n",
    "ex_multpartiterank.candidate_weighting()"
   ]
  },
  {
   "cell_type": "code",
   "execution_count": 6,
   "metadata": {},
   "outputs": [],
   "source": [
    "keyphrases = []\n",
    "\n",
    "for (keyphrase, score) in ex_tfidf.get_n_best(n=20, stemming=False):\n",
    "    keyphrases.append(keyphrase)\n",
    "for (keyphrase, score) in ex_kpminer.get_n_best(n=20, stemming=False):\n",
    "    keyphrases.append(keyphrase)\n",
    "for (keyphrase, score) in ex_topicrank.get_n_best(n=20, stemming=False):\n",
    "    keyphrases.append(keyphrase)\n",
    "for (keyphrase, score) in ex_multpartiterank.get_n_best(n=20, stemming=False):\n",
    "    keyphrases.append(keyphrase)"
   ]
  },
  {
   "cell_type": "code",
   "execution_count": 10,
   "metadata": {},
   "outputs": [
    {
     "name": "stdout",
     "output_type": "stream",
     "text": [
      "\n",
      "['egypt', 'arabic', 'country', 'mamluks', 'cairo']\n"
     ]
    }
   ],
   "source": [
    "counts = dict()\n",
    "\n",
    "for i in keyphrases:\n",
    "    if i in counts:\n",
    "        counts[i] += 1\n",
    "    else:\n",
    "        counts[i] = 1\n",
    "\n",
    "top = []\n",
    "\n",
    "for i in counts:\n",
    "    if counts[i] >= 3:\n",
    "        top.append(i)\n",
    "\n",
    "print()\n",
    "print(top)"
   ]
  },
  {
   "cell_type": "code",
   "execution_count": null,
   "metadata": {},
   "outputs": [],
   "source": [
    "from nltk.tokenize import sent_tokenize\n",
    "from flashtext import KeywordProcessor\n",
    "import nltk\n",
    "nltk.download('punkt')\n",
    "\n",
    "def tokenize_sentences(text):\n",
    "    sentences = [sent_tokenize(text)]\n",
    "    sentences = [y for x in sentences for y in x]\n",
    "    # Remove any short sentences less than 20 letters.\n",
    "    sentences = [sentence.strip() for sentence in sentences if len(sentence) > 20]\n",
    "    return sentences\n",
    "\n",
    "def get_sentences_for_keyword(keywords, sentences):\n",
    "    keyword_processor = KeywordProcessor()\n",
    "    keyword_sentences = {}\n",
    "    for word in keywords:\n",
    "        keyword_sentences[word] = []\n",
    "        keyword_processor.add_keyword(word)\n",
    "    for sentence in sentences:\n",
    "        keywords_found = keyword_processor.extract_keywords(sentence)\n",
    "        for key in keywords_found:\n",
    "            keyword_sentences[key].append(sentence)\n",
    "\n",
    "    for key in keyword_sentences.keys():\n",
    "        values = keyword_sentences[key]\n",
    "        values = sorted(values, key=len, reverse=True)\n",
    "        keyword_sentences[key] = values\n",
    "    return keyword_sentences\n",
    "\n",
    "sentences = tokenize_sentences(myfile)\n",
    "keyword_sentence_mapping = get_sentences_for_keyword(top, sentences)\n",
    "        \n",
    "print (keyword_sentence_mapping)"
   ]
  }
 ],
 "metadata": {
  "kernelspec": {
   "display_name": "Python 3.10.5 64-bit",
   "language": "python",
   "name": "python3"
  },
  "language_info": {
   "codemirror_mode": {
    "name": "ipython",
    "version": 3
   },
   "file_extension": ".py",
   "mimetype": "text/x-python",
   "name": "python",
   "nbconvert_exporter": "python",
   "pygments_lexer": "ipython3",
   "version": "3.10.5"
  },
  "orig_nbformat": 4,
  "vscode": {
   "interpreter": {
    "hash": "92db6153dbf7ec7b87e4d014dbbd3b36977afe20bdf5d52bb46bf1cabc22a040"
   }
  }
 },
 "nbformat": 4,
 "nbformat_minor": 2
}
