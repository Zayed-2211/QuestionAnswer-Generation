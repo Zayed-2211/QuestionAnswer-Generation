{
  "nbformat": 4,
  "nbformat_minor": 0,
  "metadata": {
    "colab": {
      "provenance": []
    },
    "kernelspec": {
      "name": "python3",
      "display_name": "Python 3"
    },
    "language_info": {
      "name": "python"
    },
    "accelerator": "GPU"
  },
  "cells": [
    {
      "cell_type": "code",
      "execution_count": null,
      "metadata": {
        "id": "AAdvvwGj6wzn"
      },
      "outputs": [],
      "source": [
        "!pip install -U transformers==3.0.0"
      ]
    },
    {
      "cell_type": "code",
      "source": [
        "!python -m nltk.downloader punkt"
      ],
      "metadata": {
        "id": "y5EKMTlI61WY"
      },
      "execution_count": null,
      "outputs": []
    },
    {
      "cell_type": "code",
      "source": [
        "!git clone https://github.com/patil-suraj/question_generation.git"
      ],
      "metadata": {
        "id": "xO0DwlMC624S"
      },
      "execution_count": null,
      "outputs": []
    },
    {
      "cell_type": "code",
      "source": [
        "%cd question_generation"
      ],
      "metadata": {
        "id": "hMWFE8Ip64DY"
      },
      "execution_count": null,
      "outputs": []
    },
    {
      "cell_type": "code",
      "source": [
        "from pipelines import pipeline"
      ],
      "metadata": {
        "id": "ucles9IA65Ge"
      },
      "execution_count": 35,
      "outputs": []
    },
    {
      "cell_type": "code",
      "source": [
        "import re"
      ],
      "metadata": {
        "id": "fOPyP_GH7s4H"
      },
      "execution_count": 36,
      "outputs": []
    },
    {
      "cell_type": "code",
      "source": [
        "nlp = pipeline(\"question-generation\", model=\"valhalla/t5-base-qg-hl\")"
      ],
      "metadata": {
        "id": "bvx74GMn67sT"
      },
      "execution_count": 37,
      "outputs": []
    },
    {
      "cell_type": "code",
      "source": [
        "def clean_step(my_word):\n",
        "    my_word = '    ' + my_word + '    '\n",
        "    for i in range(len(my_word)):\n",
        "        if my_word[i] == '[' and my_word[i+4] == ']':\n",
        "            rmv = str(my_word[i+1]) + str(my_word[i+2]) + str(my_word[i+3])\n",
        "            my_word = my_word.replace(rmv, ']]]')\n",
        "        elif my_word[i] == '[' and my_word[i+3] == ']':\n",
        "            rmv = str(my_word[i+1]) + str(my_word[i+2])\n",
        "            my_word = my_word.replace(rmv, ']]')\n",
        "        elif my_word[i] == '[' and my_word[i+2] == ']':\n",
        "            rmv = str(my_word[i+1])\n",
        "            my_word = my_word.replace(rmv, ']')\n",
        "    return my_word"
      ],
      "metadata": {
        "id": "T4tpe8H269Pi"
      },
      "execution_count": 38,
      "outputs": []
    },
    {
      "cell_type": "code",
      "source": [
        "def clean_text(text):\n",
        "    text = clean_step(text)\n",
        "    text = text.encode(\"utf-8\",errors='ignore').decode(\"utf-8\")\n",
        "    text = re.sub(\"https?:.*(?=\\s)\",'',text)\n",
        "    text = re.sub(\"[‘’\\\"]\",\"'\",text)\n",
        "    text = re.sub(\"[^\\x00-\\x7f]+\",'',text)\n",
        "    text = re.sub('\\S*@\\S*\\s?',' ',text)\n",
        "    text = re.sub('[#&\\\\*+/<>@[\\]^`{|}~ \\t\\n\\r]',' ',text)\n",
        "    text = re.sub('\\(.*?\\)','',text)\n",
        "    text = re.sub('\\=\\=.*?\\=\\=','',text)\n",
        "    text = re.sub(' , ',',',text)\n",
        "    text = re.sub(' \\.','.',text)\n",
        "    text = re.sub(\"  +\",' ',text)\n",
        "    text = re.sub(\";\",'and',text)\n",
        "    return text.strip()"
      ],
      "metadata": {
        "id": "BvrKjY6p7arc"
      },
      "execution_count": 39,
      "outputs": []
    },
    {
      "cell_type": "code",
      "source": [
        "with open('/content/question_generation/egypt_sample.txt', encoding='utf-8') as f:\n",
        "    test = f.read()\n",
        "\n",
        "contexts = []\n",
        "paragraphs = test.split('\\n\\n')\n",
        "\n",
        "for i in paragraphs:\n",
        "    if len(i) < 320 or i.count('\\n') > 2:\n",
        "        pass\n",
        "    else:\n",
        "        contexts.append(i)"
      ],
      "metadata": {
        "id": "GBV6iGe67iCR"
      },
      "execution_count": 48,
      "outputs": []
    },
    {
      "cell_type": "code",
      "source": [
        "for i in range(len(contexts)):\n",
        "    contexts[i] = clean_text(contexts[i])"
      ],
      "metadata": {
        "id": "MQHTekm57o6E"
      },
      "execution_count": 49,
      "outputs": []
    },
    {
      "cell_type": "code",
      "source": [
        "nlps = []\n",
        "semiFinalContexts = []\n",
        "for i in range(len(contexts)):\n",
        "  print('Paragraph:', i)\n",
        "  try:\n",
        "    nlps.append(nlp(contexts[i]))\n",
        "    semiFinalContexts.append(contexts[i])\n",
        "  except Exception:\n",
        "    continue"
      ],
      "metadata": {
        "id": "uVvhsT_O7wb4"
      },
      "execution_count": null,
      "outputs": []
    },
    {
      "cell_type": "code",
      "source": [
        "finalContexts = []\n",
        "questions = []\n",
        "answers = []"
      ],
      "metadata": {
        "id": "ZlN7v5QK7_BV"
      },
      "execution_count": 54,
      "outputs": []
    },
    {
      "cell_type": "code",
      "source": [
        "for i in range(len(nlps)):\n",
        "  for j in nlps[i]:\n",
        "    finalContexts.append(contexts[i])\n",
        "    questions.append(j['question'])\n",
        "    answers.append(j['answer'])"
      ],
      "metadata": {
        "id": "5tbZykeJ8Ujf"
      },
      "execution_count": 55,
      "outputs": []
    },
    {
      "cell_type": "code",
      "source": [
        "for i in range(len(questions)):\n",
        "  print(finalContexts[i])\n",
        "  print(questions[i])\n",
        "  print(answers[i])"
      ],
      "metadata": {
        "id": "lwrnHNm58g6g"
      },
      "execution_count": null,
      "outputs": []
    },
    {
      "cell_type": "code",
      "source": [
        "import pandas as pd"
      ],
      "metadata": {
        "id": "qVL-60dyBnhB"
      },
      "execution_count": 57,
      "outputs": []
    },
    {
      "cell_type": "code",
      "source": [
        "dataframe = {\n",
        "    'Context': finalContexts,\n",
        "    'Question': questions,\n",
        "    'T5 Answer': answers\n",
        "}"
      ],
      "metadata": {
        "id": "iDRIp4Ng8J1m"
      },
      "execution_count": 58,
      "outputs": []
    },
    {
      "cell_type": "code",
      "source": [
        "df = pd.DataFrame(dataframe)"
      ],
      "metadata": {
        "id": "Zt4FEX56CQen"
      },
      "execution_count": 59,
      "outputs": []
    },
    {
      "cell_type": "code",
      "source": [
        "df.head()"
      ],
      "metadata": {
        "colab": {
          "base_uri": "https://localhost:8080/",
          "height": 206
        },
        "id": "KBJLaDgcCagK",
        "outputId": "164a0f9a-1b75-4eee-cc81-10e1ba9e91a0"
      },
      "execution_count": 62,
      "outputs": [
        {
          "output_type": "execute_result",
          "data": {
            "text/plain": [
              "                                             Context  \\\n",
              "0  Egypt,officially the Arab Republic of Egypt, i...   \n",
              "1  Egypt,officially the Arab Republic of Egypt, i...   \n",
              "2  Egypt,officially the Arab Republic of Egypt, i...   \n",
              "3  Egypt,officially the Arab Republic of Egypt, i...   \n",
              "4  Egypt,officially the Arab Republic of Egypt, i...   \n",
              "\n",
              "                                            Question              T5 Answer  \n",
              "0  What land bridge forms the border between Afri...        Sinai Peninsula  \n",
              "1            What is Egypt bordered by to the north?  the Mediterranean Sea  \n",
              "2  What separates Egypt from Jordan and Saudi Ara...          Gulf of Aqaba  \n",
              "3          What is the second-largest city in Egypt?             Alexandria  \n",
              "4                     How many people live in Egypt?            100 million  "
            ],
            "text/html": [
              "\n",
              "  <div id=\"df-8412acab-bd6a-48ee-9272-a56cf7ef45d0\">\n",
              "    <div class=\"colab-df-container\">\n",
              "      <div>\n",
              "<style scoped>\n",
              "    .dataframe tbody tr th:only-of-type {\n",
              "        vertical-align: middle;\n",
              "    }\n",
              "\n",
              "    .dataframe tbody tr th {\n",
              "        vertical-align: top;\n",
              "    }\n",
              "\n",
              "    .dataframe thead th {\n",
              "        text-align: right;\n",
              "    }\n",
              "</style>\n",
              "<table border=\"1\" class=\"dataframe\">\n",
              "  <thead>\n",
              "    <tr style=\"text-align: right;\">\n",
              "      <th></th>\n",
              "      <th>Context</th>\n",
              "      <th>Question</th>\n",
              "      <th>T5 Answer</th>\n",
              "    </tr>\n",
              "  </thead>\n",
              "  <tbody>\n",
              "    <tr>\n",
              "      <th>0</th>\n",
              "      <td>Egypt,officially the Arab Republic of Egypt, i...</td>\n",
              "      <td>What land bridge forms the border between Afri...</td>\n",
              "      <td>Sinai Peninsula</td>\n",
              "    </tr>\n",
              "    <tr>\n",
              "      <th>1</th>\n",
              "      <td>Egypt,officially the Arab Republic of Egypt, i...</td>\n",
              "      <td>What is Egypt bordered by to the north?</td>\n",
              "      <td>the Mediterranean Sea</td>\n",
              "    </tr>\n",
              "    <tr>\n",
              "      <th>2</th>\n",
              "      <td>Egypt,officially the Arab Republic of Egypt, i...</td>\n",
              "      <td>What separates Egypt from Jordan and Saudi Ara...</td>\n",
              "      <td>Gulf of Aqaba</td>\n",
              "    </tr>\n",
              "    <tr>\n",
              "      <th>3</th>\n",
              "      <td>Egypt,officially the Arab Republic of Egypt, i...</td>\n",
              "      <td>What is the second-largest city in Egypt?</td>\n",
              "      <td>Alexandria</td>\n",
              "    </tr>\n",
              "    <tr>\n",
              "      <th>4</th>\n",
              "      <td>Egypt,officially the Arab Republic of Egypt, i...</td>\n",
              "      <td>How many people live in Egypt?</td>\n",
              "      <td>100 million</td>\n",
              "    </tr>\n",
              "  </tbody>\n",
              "</table>\n",
              "</div>\n",
              "      <button class=\"colab-df-convert\" onclick=\"convertToInteractive('df-8412acab-bd6a-48ee-9272-a56cf7ef45d0')\"\n",
              "              title=\"Convert this dataframe to an interactive table.\"\n",
              "              style=\"display:none;\">\n",
              "        \n",
              "  <svg xmlns=\"http://www.w3.org/2000/svg\" height=\"24px\"viewBox=\"0 0 24 24\"\n",
              "       width=\"24px\">\n",
              "    <path d=\"M0 0h24v24H0V0z\" fill=\"none\"/>\n",
              "    <path d=\"M18.56 5.44l.94 2.06.94-2.06 2.06-.94-2.06-.94-.94-2.06-.94 2.06-2.06.94zm-11 1L8.5 8.5l.94-2.06 2.06-.94-2.06-.94L8.5 2.5l-.94 2.06-2.06.94zm10 10l.94 2.06.94-2.06 2.06-.94-2.06-.94-.94-2.06-.94 2.06-2.06.94z\"/><path d=\"M17.41 7.96l-1.37-1.37c-.4-.4-.92-.59-1.43-.59-.52 0-1.04.2-1.43.59L10.3 9.45l-7.72 7.72c-.78.78-.78 2.05 0 2.83L4 21.41c.39.39.9.59 1.41.59.51 0 1.02-.2 1.41-.59l7.78-7.78 2.81-2.81c.8-.78.8-2.07 0-2.86zM5.41 20L4 18.59l7.72-7.72 1.47 1.35L5.41 20z\"/>\n",
              "  </svg>\n",
              "      </button>\n",
              "      \n",
              "  <style>\n",
              "    .colab-df-container {\n",
              "      display:flex;\n",
              "      flex-wrap:wrap;\n",
              "      gap: 12px;\n",
              "    }\n",
              "\n",
              "    .colab-df-convert {\n",
              "      background-color: #E8F0FE;\n",
              "      border: none;\n",
              "      border-radius: 50%;\n",
              "      cursor: pointer;\n",
              "      display: none;\n",
              "      fill: #1967D2;\n",
              "      height: 32px;\n",
              "      padding: 0 0 0 0;\n",
              "      width: 32px;\n",
              "    }\n",
              "\n",
              "    .colab-df-convert:hover {\n",
              "      background-color: #E2EBFA;\n",
              "      box-shadow: 0px 1px 2px rgba(60, 64, 67, 0.3), 0px 1px 3px 1px rgba(60, 64, 67, 0.15);\n",
              "      fill: #174EA6;\n",
              "    }\n",
              "\n",
              "    [theme=dark] .colab-df-convert {\n",
              "      background-color: #3B4455;\n",
              "      fill: #D2E3FC;\n",
              "    }\n",
              "\n",
              "    [theme=dark] .colab-df-convert:hover {\n",
              "      background-color: #434B5C;\n",
              "      box-shadow: 0px 1px 3px 1px rgba(0, 0, 0, 0.15);\n",
              "      filter: drop-shadow(0px 1px 2px rgba(0, 0, 0, 0.3));\n",
              "      fill: #FFFFFF;\n",
              "    }\n",
              "  </style>\n",
              "\n",
              "      <script>\n",
              "        const buttonEl =\n",
              "          document.querySelector('#df-8412acab-bd6a-48ee-9272-a56cf7ef45d0 button.colab-df-convert');\n",
              "        buttonEl.style.display =\n",
              "          google.colab.kernel.accessAllowed ? 'block' : 'none';\n",
              "\n",
              "        async function convertToInteractive(key) {\n",
              "          const element = document.querySelector('#df-8412acab-bd6a-48ee-9272-a56cf7ef45d0');\n",
              "          const dataTable =\n",
              "            await google.colab.kernel.invokeFunction('convertToInteractive',\n",
              "                                                     [key], {});\n",
              "          if (!dataTable) return;\n",
              "\n",
              "          const docLinkHtml = 'Like what you see? Visit the ' +\n",
              "            '<a target=\"_blank\" href=https://colab.research.google.com/notebooks/data_table.ipynb>data table notebook</a>'\n",
              "            + ' to learn more about interactive tables.';\n",
              "          element.innerHTML = '';\n",
              "          dataTable['output_type'] = 'display_data';\n",
              "          await google.colab.output.renderOutput(dataTable, element);\n",
              "          const docLink = document.createElement('div');\n",
              "          docLink.innerHTML = docLinkHtml;\n",
              "          element.appendChild(docLink);\n",
              "        }\n",
              "      </script>\n",
              "    </div>\n",
              "  </div>\n",
              "  "
            ]
          },
          "metadata": {},
          "execution_count": 62
        }
      ]
    },
    {
      "cell_type": "code",
      "source": [
        "df.to_csv('/content/question_generation/QA_by_T5.csv')"
      ],
      "metadata": {
        "id": "rYhZYXQcCk2Z"
      },
      "execution_count": 65,
      "outputs": []
    }
  ]
}