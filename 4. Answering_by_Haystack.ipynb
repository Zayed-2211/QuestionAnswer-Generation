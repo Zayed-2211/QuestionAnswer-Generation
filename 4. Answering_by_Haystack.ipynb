{
  "cells": [
    {
      "cell_type": "code",
      "execution_count": null,
      "metadata": {
        "colab": {
          "base_uri": "https://localhost:8080/"
        },
        "id": "LK-eOb4oPWQt",
        "outputId": "252ab230-5acf-438e-b960-fa66b6bff560"
      },
      "outputs": [],
      "source": [
        "%%bash\n",
        "\n",
        "pip install --upgrade pip\n",
        "pip install git+https://github.com/deepset-ai/haystack.git#egg=farm-haystack[colab]"
      ]
    },
    {
      "cell_type": "code",
      "execution_count": 64,
      "metadata": {
        "id": "Vp826lsrriIY"
      },
      "outputs": [],
      "source": [
        "import logging\n",
        "from haystack.document_stores import InMemoryDocumentStore\n",
        "from haystack.utils import clean_wiki_text, convert_files_to_docs, fetch_archive_from_http\n",
        "from haystack.nodes import TfidfRetriever\n",
        "from haystack.nodes import FARMReader\n",
        "from haystack.pipelines import ExtractiveQAPipeline\n",
        "from pprint import pprint\n",
        "from haystack.utils import print_answers\n",
        "import pandas as pd"
      ]
    },
    {
      "cell_type": "code",
      "execution_count": 65,
      "metadata": {
        "id": "A3o7xwdbThRx"
      },
      "outputs": [],
      "source": [
        "logging.basicConfig(format=\"%(levelname)s - %(name)s -  %(message)s\", level=logging.WARNING)\n",
        "logging.getLogger(\"haystack\").setLevel(logging.INFO)"
      ]
    },
    {
      "cell_type": "code",
      "execution_count": null,
      "metadata": {
        "colab": {
          "base_uri": "https://localhost:8080/"
        },
        "id": "ouv7wT-pTwgP",
        "outputId": "ff9043bd-3380-485a-db72-ea85f04b54da"
      },
      "outputs": [],
      "source": [
        "# In-Memory Document Store\n",
        "document_store = InMemoryDocumentStore()"
      ]
    },
    {
      "cell_type": "code",
      "execution_count": null,
      "metadata": {
        "colab": {
          "base_uri": "https://localhost:8080/"
        },
        "id": "T8PqJ8kdT2OW",
        "outputId": "b963b594-ec76-445e-c70a-8fbea43ac987"
      },
      "outputs": [],
      "source": [
        "doc_dir = \"/content/text\"\n",
        "s3_url = \"https://s3.eu-central-1.amazonaws.com/deepset.ai-farm-qa/datasets/documents/wiki_gameofthrones_txt3.zip\"\n",
        "fetch_archive_from_http(url=s3_url, output_dir=doc_dir)\n",
        "docs = convert_files_to_docs(dir_path=doc_dir, clean_func=clean_wiki_text, split_paragraphs=True)\n",
        "\n",
        "print(docs[:3])\n",
        "document_store.write_documents(docs)"
      ]
    },
    {
      "cell_type": "code",
      "execution_count": 68,
      "metadata": {
        "colab": {
          "base_uri": "https://localhost:8080/"
        },
        "id": "NXaSULkkUzRH",
        "outputId": "569935d0-f81c-446a-fc3a-c3be6cb78a56"
      },
      "outputs": [
        {
          "name": "stderr",
          "output_type": "stream",
          "text": [
            "INFO:haystack.nodes.retriever.sparse:Found 1 candidate paragraphs from 1 docs in DB\n"
          ]
        }
      ],
      "source": [
        "retriever = TfidfRetriever(document_store=document_store)"
      ]
    },
    {
      "cell_type": "code",
      "execution_count": null,
      "metadata": {
        "colab": {
          "base_uri": "https://localhost:8080/"
        },
        "id": "i9pDJ9I-U89n",
        "outputId": "dae9aece-c6d6-4769-f58e-5e903ab41fab"
      },
      "outputs": [],
      "source": [
        "reader = FARMReader(model_name_or_path=\"deepset/roberta-base-squad2\", use_gpu=True)"
      ]
    },
    {
      "cell_type": "code",
      "execution_count": 70,
      "metadata": {
        "id": "mknF70JmWXaT"
      },
      "outputs": [],
      "source": [
        "pipe = ExtractiveQAPipeline(reader, retriever)"
      ]
    },
    {
      "cell_type": "code",
      "execution_count": 78,
      "metadata": {
        "id": "lIMBKhTLRunB"
      },
      "outputs": [],
      "source": [
        "df = pd.read_csv('/content/QA_by_T5.csv')\n",
        "questions = df['Question'].tolist()\n",
        "t5answers = df['T5 Answer'].tolist()\n",
        "contexts = df['Context'].tolist()\n",
        "answers = []"
      ]
    },
    {
      "cell_type": "code",
      "execution_count": 72,
      "metadata": {
        "colab": {
          "base_uri": "https://localhost:8080/"
        },
        "id": "Z-1e9fBWKZYp",
        "outputId": "37da0a10-218f-4e95-801b-65e257ea3c00"
      },
      "outputs": [
        {
          "data": {
            "text/plain": [
              "124"
            ]
          },
          "execution_count": 72,
          "metadata": {},
          "output_type": "execute_result"
        }
      ],
      "source": [
        "len(questions)"
      ]
    },
    {
      "cell_type": "code",
      "execution_count": null,
      "metadata": {
        "id": "lcj89sbGR7mG"
      },
      "outputs": [],
      "source": [
        "for question in questions:\n",
        "  prediction = pipe.run(\n",
        "      query=question, params={\"Retriever\": {\"top_k\": 3}, \"Reader\": {\"top_k\": 3}}\n",
        "  )\n",
        "  temp = []\n",
        "  temp.append(prediction['answers'][0].answer)\n",
        "  answers.append(str(temp[0]))"
      ]
    },
    {
      "cell_type": "code",
      "execution_count": 82,
      "metadata": {
        "id": "WL9HCM_fGS35"
      },
      "outputs": [],
      "source": [
        "import pandas as pd"
      ]
    },
    {
      "cell_type": "code",
      "execution_count": 85,
      "metadata": {
        "id": "BMqXlsSjLOFI"
      },
      "outputs": [],
      "source": [
        "dataframe = {\n",
        "    'Context': contexts,\n",
        "    'Question': questions,\n",
        "    'T5 Answer': t5answers,\n",
        "    'Heystack Answer': answers\n",
        "}"
      ]
    },
    {
      "cell_type": "code",
      "execution_count": 86,
      "metadata": {
        "id": "Yp012MIIP7GM"
      },
      "outputs": [],
      "source": [
        "df = pd.DataFrame(dataframe)"
      ]
    },
    {
      "cell_type": "code",
      "execution_count": 87,
      "metadata": {
        "colab": {
          "base_uri": "https://localhost:8080/",
          "height": 206
        },
        "id": "rBseGWXcP-3u",
        "outputId": "85f04a9b-cc4d-43fe-a439-4bfe7fe4dfb2"
      },
      "outputs": [
        {
          "data": {
            "text/html": [
              "\n",
              "  <div id=\"df-3add707e-8301-478e-bc03-8d7d4bc57160\">\n",
              "    <div class=\"colab-df-container\">\n",
              "      <div>\n",
              "<style scoped>\n",
              "    .dataframe tbody tr th:only-of-type {\n",
              "        vertical-align: middle;\n",
              "    }\n",
              "\n",
              "    .dataframe tbody tr th {\n",
              "        vertical-align: top;\n",
              "    }\n",
              "\n",
              "    .dataframe thead th {\n",
              "        text-align: right;\n",
              "    }\n",
              "</style>\n",
              "<table border=\"1\" class=\"dataframe\">\n",
              "  <thead>\n",
              "    <tr style=\"text-align: right;\">\n",
              "      <th></th>\n",
              "      <th>Context</th>\n",
              "      <th>Question</th>\n",
              "      <th>T5 Answer</th>\n",
              "      <th>Heystack Answer</th>\n",
              "    </tr>\n",
              "  </thead>\n",
              "  <tbody>\n",
              "    <tr>\n",
              "      <th>0</th>\n",
              "      <td>Egypt,officially the Arab Republic of Egypt, is a transcontinental country s...</td>\n",
              "      <td>What land bridge forms the border between Africa and Asia?</td>\n",
              "      <td>Sinai Peninsula</td>\n",
              "      <td>Sinai Peninsula</td>\n",
              "    </tr>\n",
              "    <tr>\n",
              "      <th>1</th>\n",
              "      <td>Egypt,officially the Arab Republic of Egypt, is a transcontinental country s...</td>\n",
              "      <td>What is Egypt bordered by to the north?</td>\n",
              "      <td>the Mediterranean Sea</td>\n",
              "      <td>the Mediterranean Sea</td>\n",
              "    </tr>\n",
              "    <tr>\n",
              "      <th>2</th>\n",
              "      <td>Egypt,officially the Arab Republic of Egypt, is a transcontinental country s...</td>\n",
              "      <td>What separates Egypt from Jordan and Saudi Arabia?</td>\n",
              "      <td>Gulf of Aqaba</td>\n",
              "      <td>The Gulf of Aqaba</td>\n",
              "    </tr>\n",
              "    <tr>\n",
              "      <th>3</th>\n",
              "      <td>Egypt,officially the Arab Republic of Egypt, is a transcontinental country s...</td>\n",
              "      <td>What is the second-largest city in Egypt?</td>\n",
              "      <td>Alexandria</td>\n",
              "      <td>Alexandria</td>\n",
              "    </tr>\n",
              "    <tr>\n",
              "      <th>4</th>\n",
              "      <td>Egypt,officially the Arab Republic of Egypt, is a transcontinental country s...</td>\n",
              "      <td>How many people live in Egypt?</td>\n",
              "      <td>100 million</td>\n",
              "      <td>100 million</td>\n",
              "    </tr>\n",
              "  </tbody>\n",
              "</table>\n",
              "</div>\n",
              "      <button class=\"colab-df-convert\" onclick=\"convertToInteractive('df-3add707e-8301-478e-bc03-8d7d4bc57160')\"\n",
              "              title=\"Convert this dataframe to an interactive table.\"\n",
              "              style=\"display:none;\">\n",
              "        \n",
              "  <svg xmlns=\"http://www.w3.org/2000/svg\" height=\"24px\"viewBox=\"0 0 24 24\"\n",
              "       width=\"24px\">\n",
              "    <path d=\"M0 0h24v24H0V0z\" fill=\"none\"/>\n",
              "    <path d=\"M18.56 5.44l.94 2.06.94-2.06 2.06-.94-2.06-.94-.94-2.06-.94 2.06-2.06.94zm-11 1L8.5 8.5l.94-2.06 2.06-.94-2.06-.94L8.5 2.5l-.94 2.06-2.06.94zm10 10l.94 2.06.94-2.06 2.06-.94-2.06-.94-.94-2.06-.94 2.06-2.06.94z\"/><path d=\"M17.41 7.96l-1.37-1.37c-.4-.4-.92-.59-1.43-.59-.52 0-1.04.2-1.43.59L10.3 9.45l-7.72 7.72c-.78.78-.78 2.05 0 2.83L4 21.41c.39.39.9.59 1.41.59.51 0 1.02-.2 1.41-.59l7.78-7.78 2.81-2.81c.8-.78.8-2.07 0-2.86zM5.41 20L4 18.59l7.72-7.72 1.47 1.35L5.41 20z\"/>\n",
              "  </svg>\n",
              "      </button>\n",
              "      \n",
              "  <style>\n",
              "    .colab-df-container {\n",
              "      display:flex;\n",
              "      flex-wrap:wrap;\n",
              "      gap: 12px;\n",
              "    }\n",
              "\n",
              "    .colab-df-convert {\n",
              "      background-color: #E8F0FE;\n",
              "      border: none;\n",
              "      border-radius: 50%;\n",
              "      cursor: pointer;\n",
              "      display: none;\n",
              "      fill: #1967D2;\n",
              "      height: 32px;\n",
              "      padding: 0 0 0 0;\n",
              "      width: 32px;\n",
              "    }\n",
              "\n",
              "    .colab-df-convert:hover {\n",
              "      background-color: #E2EBFA;\n",
              "      box-shadow: 0px 1px 2px rgba(60, 64, 67, 0.3), 0px 1px 3px 1px rgba(60, 64, 67, 0.15);\n",
              "      fill: #174EA6;\n",
              "    }\n",
              "\n",
              "    [theme=dark] .colab-df-convert {\n",
              "      background-color: #3B4455;\n",
              "      fill: #D2E3FC;\n",
              "    }\n",
              "\n",
              "    [theme=dark] .colab-df-convert:hover {\n",
              "      background-color: #434B5C;\n",
              "      box-shadow: 0px 1px 3px 1px rgba(0, 0, 0, 0.15);\n",
              "      filter: drop-shadow(0px 1px 2px rgba(0, 0, 0, 0.3));\n",
              "      fill: #FFFFFF;\n",
              "    }\n",
              "  </style>\n",
              "\n",
              "      <script>\n",
              "        const buttonEl =\n",
              "          document.querySelector('#df-3add707e-8301-478e-bc03-8d7d4bc57160 button.colab-df-convert');\n",
              "        buttonEl.style.display =\n",
              "          google.colab.kernel.accessAllowed ? 'block' : 'none';\n",
              "\n",
              "        async function convertToInteractive(key) {\n",
              "          const element = document.querySelector('#df-3add707e-8301-478e-bc03-8d7d4bc57160');\n",
              "          const dataTable =\n",
              "            await google.colab.kernel.invokeFunction('convertToInteractive',\n",
              "                                                     [key], {});\n",
              "          if (!dataTable) return;\n",
              "\n",
              "          const docLinkHtml = 'Like what you see? Visit the ' +\n",
              "            '<a target=\"_blank\" href=https://colab.research.google.com/notebooks/data_table.ipynb>data table notebook</a>'\n",
              "            + ' to learn more about interactive tables.';\n",
              "          element.innerHTML = '';\n",
              "          dataTable['output_type'] = 'display_data';\n",
              "          await google.colab.output.renderOutput(dataTable, element);\n",
              "          const docLink = document.createElement('div');\n",
              "          docLink.innerHTML = docLinkHtml;\n",
              "          element.appendChild(docLink);\n",
              "        }\n",
              "      </script>\n",
              "    </div>\n",
              "  </div>\n",
              "  "
            ],
            "text/plain": [
              "                                                                           Context  \\\n",
              "0  Egypt,officially the Arab Republic of Egypt, is a transcontinental country s...   \n",
              "1  Egypt,officially the Arab Republic of Egypt, is a transcontinental country s...   \n",
              "2  Egypt,officially the Arab Republic of Egypt, is a transcontinental country s...   \n",
              "3  Egypt,officially the Arab Republic of Egypt, is a transcontinental country s...   \n",
              "4  Egypt,officially the Arab Republic of Egypt, is a transcontinental country s...   \n",
              "\n",
              "                                                     Question  \\\n",
              "0  What land bridge forms the border between Africa and Asia?   \n",
              "1                     What is Egypt bordered by to the north?   \n",
              "2          What separates Egypt from Jordan and Saudi Arabia?   \n",
              "3                   What is the second-largest city in Egypt?   \n",
              "4                              How many people live in Egypt?   \n",
              "\n",
              "               T5 Answer        Heystack Answer  \n",
              "0        Sinai Peninsula        Sinai Peninsula  \n",
              "1  the Mediterranean Sea  the Mediterranean Sea  \n",
              "2          Gulf of Aqaba      The Gulf of Aqaba  \n",
              "3             Alexandria             Alexandria  \n",
              "4            100 million            100 million  "
            ]
          },
          "execution_count": 87,
          "metadata": {},
          "output_type": "execute_result"
        }
      ],
      "source": [
        "df.head()"
      ]
    },
    {
      "cell_type": "code",
      "execution_count": 89,
      "metadata": {
        "id": "f6UaadPkQCJS"
      },
      "outputs": [],
      "source": [
        "df.to_csv('/content/Answering_by_Heystack.csv')"
      ]
    }
  ],
  "metadata": {
    "accelerator": "GPU",
    "colab": {
      "collapsed_sections": [],
      "provenance": []
    },
    "kernelspec": {
      "display_name": "Python 3",
      "name": "python3"
    },
    "language_info": {
      "name": "python"
    }
  },
  "nbformat": 4,
  "nbformat_minor": 0
}
